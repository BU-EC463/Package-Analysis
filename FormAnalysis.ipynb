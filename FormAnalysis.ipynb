{
 "cells": [
  {
   "cell_type": "markdown",
   "metadata": {},
   "source": [
    "## Data Parsing Test Run"
   ]
  },
  {
   "cell_type": "code",
   "execution_count": 1,
   "metadata": {},
   "outputs": [
    {
     "data": {
      "text/plain": [
       "[{'drug_name': 'A and B vaccine/PF', 'form_dosage': 'I'},\n",
       " {'drug_name': 'A and D TOPICAL', 'form_dosage': 'OINT.'},\n",
       " {'drug_name': 'A and D/white', 'form_dosage': 'pet/lanolin'},\n",
       " {'drug_name': 'A INJECTION', 'form_dosage': 'V'},\n",
       " {'drug_name': 'A', 'form_dosage': 'INTRAMUSC'},\n",
       " {'drug_name': 'A INTRAMUSC', 'form_dosage': 'V'},\n",
       " {'drug_name': 'A', 'form_dosage': 'microsphr'}]"
      ]
     },
     "execution_count": 1,
     "metadata": {},
     "output_type": "execute_result"
    }
   ],
   "source": [
    "# Python code to parse the provided preview lines and extract drug names, forms, and dosages\n",
    "\n",
    "import re\n",
    "\n",
    "# Sample data extraction based on the previewed structure\n",
    "sample_data = [\n",
    "    \"A and B vaccine/PF I\",\n",
    "    \"A and D TOPICAL OINT.\",\n",
    "    \"A and D/white pet/lanolin\",\n",
    "    \"A INJECTION V\",\n",
    "    \"A INTRAMUSC\",\n",
    "    \"A INTRAMUSC V\",\n",
    "    \"A microsphr\"\n",
    "]\n",
    "\n",
    "# Define a function to parse the data\n",
    "def parse_drug_info(data):\n",
    "    parsed_data = []\n",
    "    for line in data:\n",
    "        # Attempt to split drug name from its form and dosage\n",
    "        parts = re.split(r'\\s+', line)\n",
    "        if len(parts) > 1:\n",
    "            # Assuming the last part may contain form/dosage information\n",
    "            form_dosage = parts[-1]\n",
    "            drug_name = \" \".join(parts[:-1])\n",
    "        else:\n",
    "            form_dosage = None\n",
    "            drug_name = line\n",
    "        \n",
    "        parsed_data.append({\n",
    "            'drug_name': drug_name,\n",
    "            'form_dosage': form_dosage\n",
    "        })\n",
    "    return parsed_data\n",
    "\n",
    "# Parse the sample data\n",
    "parsed_sample_data = parse_drug_info(sample_data)\n",
    "parsed_sample_data"
   ]
  },
  {
   "cell_type": "markdown",
   "metadata": {},
   "source": [
    "## Refined Parsing Test"
   ]
  },
  {
   "cell_type": "code",
   "execution_count": 2,
   "metadata": {},
   "outputs": [
    {
     "data": {
      "text/plain": [
       "[{'drug_name': 'A and B vaccine/PF I', 'form_dosage': None},\n",
       " {'drug_name': 'A and D', 'form_dosage': 'TOPICAL OINT.'},\n",
       " {'drug_name': 'A and D/white pet/lanolin', 'form_dosage': None},\n",
       " {'drug_name': 'A', 'form_dosage': 'INJECTION V'},\n",
       " {'drug_name': 'A', 'form_dosage': 'INTRAMUSC'},\n",
       " {'drug_name': 'A', 'form_dosage': 'INTRAMUSC V'},\n",
       " {'drug_name': 'A microsphr', 'form_dosage': None}]"
      ]
     },
     "execution_count": 2,
     "metadata": {},
     "output_type": "execute_result"
    }
   ],
   "source": [
    "# Improved parsing strategy using regular expressions for better accuracy\n",
    "\n",
    "def improved_parse_drug_info(data):\n",
    "    improved_parsed_data = []\n",
    "    # Regular expression to match potential form/dosage patterns\n",
    "    form_dosage_pattern = re.compile(r'(TOPICAL|INJECTION|ORAL|SUBCUT|INTRAVEN|NASAL|OTIC|VAGINAL|TRANSDERM|INTRAUTERI|INTRAMUSC|CAPSULE|TABLET|SOLUTION|SUSP|GEL|CREAM|OINT|LIQD|POWD|AERO|DROPS|SYRINGE|VIAL|LOZENGE|SHAMPOO|FOAM|CONC|MD PMP|AUTO INJCT|CARTRIDGE|IMPLANT|PEN INJCTR|PK|SPR|DS PK|ER|SA|DR|CAP|TAB|CHEW|G|ML|MG|MC|UNI|%)')\n",
    "\n",
    "    for line in data:\n",
    "        # Attempt to find the form/dosage part using the regex\n",
    "        match = form_dosage_pattern.search(line)\n",
    "        if match:\n",
    "            start_pos = match.start()\n",
    "            drug_name = line[:start_pos].strip()\n",
    "            form_dosage = line[start_pos:].strip()\n",
    "        else:\n",
    "            drug_name = line\n",
    "            form_dosage = None\n",
    "        \n",
    "        improved_parsed_data.append({\n",
    "            'drug_name': drug_name,\n",
    "            'form_dosage': form_dosage\n",
    "        })\n",
    "    return improved_parsed_data\n",
    "\n",
    "# Apply the improved parsing logic on the same sample data\n",
    "improved_parsed_sample_data = improved_parse_drug_info(sample_data)\n",
    "improved_parsed_sample_data\n"
   ]
  },
  {
   "cell_type": "markdown",
   "metadata": {},
   "source": [
    "## Parsing Taha_Output Test File"
   ]
  },
  {
   "cell_type": "code",
   "execution_count": 5,
   "metadata": {},
   "outputs": [],
   "source": [
    "# Assuming the function 'improved_parse_drug_info' and 'file_path' are defined\n",
    "\n",
    "file_path = 'Taha_Output.txt'\n",
    "# Step 1: Apply Improved Parsing to Entire File Content\n",
    "with open(file_path, 'r') as file:\n",
    "    entire_file_data = file.readlines()\n",
    "\n",
    "parsed_data = improved_parse_drug_info(entire_file_data)"
   ]
  },
  {
   "cell_type": "code",
   "execution_count": 6,
   "metadata": {},
   "outputs": [
    {
     "data": {
      "text/plain": [
       "[{'drug_name': 'A and B vaccine/PF I', 'form_dosage': None},\n",
       " {'drug_name': 'A and D', 'form_dosage': 'TOPICAL OINT.'},\n",
       " {'drug_name': 'A and D/white pet/lanolin', 'form_dosage': None},\n",
       " {'drug_name': 'A', 'form_dosage': 'INJECTION V'},\n",
       " {'drug_name': 'A', 'form_dosage': 'INTRAMUSC'},\n",
       " {'drug_name': 'A', 'form_dosage': 'INTRAMUSC V'},\n",
       " {'drug_name': 'A microsphr', 'form_dosage': None}]"
      ]
     },
     "execution_count": 6,
     "metadata": {},
     "output_type": "execute_result"
    }
   ],
   "source": [
    "# Implement the normalization process on the improved parsed sample data\n",
    "\n",
    "# Normalization rules for form names\n",
    "form_normalization_rules = {\n",
    "    'caps': 'capsules',\n",
    "    'tab': 'tablets',\n",
    "    'caplet': 'tablet',  # Considering caplets and tablets equivalent for this context\n",
    "    'ointment': 'cream',  # Simplification, though not strictly accurate\n",
    "    'susp': 'suspension',\n",
    "    'conc': 'concentrate',\n",
    "    'inj': 'injection',\n",
    "    'vial': 'injection',  # Vials are typically used for injections\n",
    "    'syringe': 'injection',  # Similarly, syringes imply injection\n",
    "    'powd': 'powder',\n",
    "    'aero': 'aerosol',\n",
    "    'drops': 'solution',  # Eye/nose drops are essentially solutions\n",
    "    'lozenge': 'tablet',  # Simplification, for oral solid dosage\n",
    "    'shampoo': 'topical solution',  # Shampoos can be considered topical solutions\n",
    "    'foam': 'topical foam',\n",
    "    'gel': 'topical gel'\n",
    "}\n",
    "\n",
    "# Apply normalization rules to the form_dosage in the parsed data\n",
    "def normalize_form_dosage(form_dosage, normalization_rules):\n",
    "    normalized_form_dosage = form_dosage if form_dosage else \"\"\n",
    "    for original, normalized in normalization_rules.items():\n",
    "        normalized_form_dosage = re.sub(r'\\b{}\\b'.format(original), normalized, normalized_form_dosage, flags=re.IGNORECASE)\n",
    "    return normalized_form_dosage\n",
    "\n",
    "# Normalize the improved_parsed_sample_data\n",
    "normalized_sample_data = []\n",
    "for entry in improved_parsed_sample_data:\n",
    "    if entry['form_dosage']:\n",
    "        entry['form_dosage'] = normalize_form_dosage(entry['form_dosage'], form_normalization_rules)\n",
    "    normalized_sample_data.append(entry)\n",
    "\n",
    "normalized_sample_data\n"
   ]
  },
  {
   "cell_type": "code",
   "execution_count": null,
   "metadata": {},
   "outputs": [],
   "source": [
    "\n",
    "# Step 2: Normalize and Standardize Form Names and Dosage Units\n",
    "# This would involve iterating over 'parsed_data', applying normalization and standardization rules.\n",
    "\n",
    "# Example of normalization (simplified for demonstration)\n",
    "normalized_data = []\n",
    "for entry in parsed_data:\n",
    "    if entry['form_dosage']:\n",
    "        # Apply normalization logic here\n",
    "        normalized_form_dosage = entry['form_dosage'].replace('caps', 'capsules').replace('tab', 'tablets')\n",
    "        normalized_data.append({**entry, 'form_dosage': normalized_form_dosage})\n",
    "    else:\n",
    "        normalized_data.append(entry)\n"
   ]
  }
 ],
 "metadata": {
  "kernelspec": {
   "display_name": "Python 3",
   "language": "python",
   "name": "python3"
  },
  "language_info": {
   "codemirror_mode": {
    "name": "ipython",
    "version": 3
   },
   "file_extension": ".py",
   "mimetype": "text/x-python",
   "name": "python",
   "nbconvert_exporter": "python",
   "pygments_lexer": "ipython3",
   "version": "3.12.1"
  }
 },
 "nbformat": 4,
 "nbformat_minor": 2
}
